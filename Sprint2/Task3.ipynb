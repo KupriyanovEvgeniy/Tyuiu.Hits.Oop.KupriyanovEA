{
 "cells": [
  {
   "cell_type": "markdown",
   "metadata": {},
   "source": [
    "<h1 style=\"color:DodgerBlue\">Индивидальный проект</h1>"
   ]
  },
  {
   "cell_type": "markdown",
   "metadata": {},
   "source": [
    "<h2 style=\"color:DodgerBlue\">Название проекта:</h2>\n",
    "\n",
    "----\n",
    "\n",
    "### Вариант задания \n"
   ]
  },
  {
   "cell_type": "markdown",
   "metadata": {},
   "source": [
    "<h2 style=\"color:DodgerBlue\">Описание проекта:</h2>\n",
    "\n",
    "----\n",
    "\n",
    "[ваш текст]\n",
    "\n",
    "#### Дополнительное задание\n",
    "Добавьте к сущестующим классам (базовыму и производным 3-4 атрибута и метода) и реализуйте простое, сложное и множественное наследование"
   ]
  },
  {
   "cell_type": "markdown",
   "metadata": {},
   "source": [
    "<h2 style=\"color:DodgerBlue\">Реализация:</h2>\n",
    "\n",
    "----"
   ]
  },
  {
   "cell_type": "code",
   "execution_count": null,
   "metadata": {
    "dotnet_interactive": {
     "language": "csharp"
    },
    "polyglot_notebook": {
     "kernelName": "csharp"
    }
   },
   "outputs": [
    {
     "name": "stdout",
     "output_type": "stream",
     "text": [
      "Карта: 1111-2222-3333-4444, Владелец: Иван Иванов, Срок действия: 12/31/2025\n",
      "Оплата 300 прошла успешно! Остаток на карте: 4700 Начислено бонусных миль: 30. Всего миль: 30\n",
      "Текущий баланс: 4700\n",
      "\n",
      "Карта: 2222-3333-4444-5555, Владелец: Павел Морозов, Срок действия: 6/30/2026\n",
      "Оплата 200 прошла успешно! Остаток на карте: 2800 Начислено бонусных миль: 20. Всего миль: 20\n",
      "Текущий баланс: 2800 Если у вас возникли вопросы, свяжитесь с вашим ассистентом: 8(999)555-55-55.\n",
      "\n",
      "Карта: 3333-4444-5555-6666, Владелец: Иван Петров, Срок действия: 1/10/2027, Компания: ГазпромНефть\n",
      "Оплата 1500 прошла успешно! Остаток на карте: 8500\n",
      "Текущий баланс: 8500\n"
     ]
    }
   ],
   "source": [
    "// Интерфейс для функциональности баланса\n",
    "public interface IBalance\n",
    "{\n",
    "    string CheckBalance(); // Проверка баланса\n",
    "}\n",
    "\n",
    "// Интерфейс для функциональности платежей\n",
    "public interface IPayment\n",
    "{\n",
    "    string Pay(double amount); // Оплата\n",
    "}\n",
    "\n",
    "// Базовый класс CreditCard\n",
    "public abstract class CreditCard : IBalance, IPayment\n",
    "{\n",
    "    public string CardNumber { get; set; } // Номер карты\n",
    "    public string HolderName { get; set; } // Имя владельца карты\n",
    "    public DateTime ExpiryDate { get; set; } // Срок действия карты\n",
    "    public double Balance { get; set; } // Баланс на карте\n",
    "\n",
    "    public CreditCard(string cardNumber, string holderName, DateTime expiryDate, double balance)\n",
    "    {\n",
    "        CardNumber = cardNumber;\n",
    "        HolderName = holderName;\n",
    "        ExpiryDate = expiryDate;\n",
    "        Balance = balance;\n",
    "    }\n",
    "\n",
    "    public virtual string GetInfo()\n",
    "    {\n",
    "        return $\"Карта: {CardNumber}, Владелец: {HolderName}, Срок действия: {ExpiryDate.ToShortDateString()}\";\n",
    "    }\n",
    "\n",
    "    public virtual string Pay(double amount)\n",
    "    {\n",
    "        if (Balance >= amount)\n",
    "        {\n",
    "            Balance -= amount;\n",
    "            return $\"Оплата {amount} прошла успешно! Остаток на карте: {Balance}\";\n",
    "        }\n",
    "        else\n",
    "        {\n",
    "            return \"Недостаточно средств на карте.\";\n",
    "        }\n",
    "    }\n",
    "\n",
    "    public virtual string CheckBalance()\n",
    "    {\n",
    "        return $\"Текущий баланс: {Balance}\";\n",
    "    }\n",
    "}\n",
    "\n",
    "// Производный класс GoldCreditCard\n",
    "public class GoldCreditCard : CreditCard\n",
    "{\n",
    "    public int BonusMiles { get; set; } // Количество бонусных миль\n",
    "\n",
    "    public GoldCreditCard(string cardNumber, string holderName, DateTime expiryDate, double balance)\n",
    "        : base(cardNumber, holderName, expiryDate, balance)\n",
    "    {\n",
    "        BonusMiles = 0; // Инициализация бонусных миль\n",
    "    }\n",
    "\n",
    "    public override string Pay(double amount)\n",
    "    {\n",
    "        string result = base.Pay(amount);\n",
    "        if (Balance >= amount)\n",
    "        {\n",
    "            int earnedMiles = (int)(amount * 0.1); // 10% от суммы в милях\n",
    "            BonusMiles += earnedMiles;\n",
    "            result += $\" Начислено бонусных миль: {earnedMiles}. Всего миль: {BonusMiles}\";\n",
    "        }\n",
    "        return result;\n",
    "    }\n",
    "}\n",
    "\n",
    "// Производный класс PremiumCreditCard от GoldCreditCard (сложное наследование)\n",
    "public class PremiumCreditCard : GoldCreditCard\n",
    "{\n",
    "    public string SupportAssistant { get; set; } // Имя ассистента поддержки\n",
    "\n",
    "    public PremiumCreditCard(string cardNumber, string holderName, DateTime expiryDate, double balance, string supportAssistant)\n",
    "        : base(cardNumber, holderName, expiryDate, balance)\n",
    "    {\n",
    "        SupportAssistant = supportAssistant; // Инициализация ассистента поддержки\n",
    "    }\n",
    "\n",
    "    public override string CheckBalance()\n",
    "    {\n",
    "        return $\"{base.CheckBalance()} Если у вас возникли вопросы, свяжитесь с вашим ассистентом: {SupportAssistant}.\";\n",
    "    }\n",
    "}\n",
    "\n",
    "// Производный класс CorporateCreditCard\n",
    "public class CorporateCreditCard : CreditCard\n",
    "{\n",
    "    public string Company { get; set; } // Название компании\n",
    "\n",
    "    public CorporateCreditCard(string cardNumber, string holderName, DateTime expiryDate, double balance, string company)\n",
    "        : base(cardNumber, holderName, expiryDate, balance)\n",
    "    {\n",
    "        Company = company; // Инициализация названия компании\n",
    "    }\n",
    "\n",
    "    public override string GetInfo()\n",
    "    {\n",
    "        return $\"{base.GetInfo()}, Компания: {Company}\"; // Дополнение информации о компании\n",
    "    }\n",
    "}\n",
    "\n",
    "// Пример использования\n",
    "CreditCard goldCard = new GoldCreditCard(\"1111-2222-3333-4444\", \"Иван Иванов\", new DateTime(2025, 12, 31), 5000);\n",
    "CreditCard premiumCard = new PremiumCreditCard(\"2222-3333-4444-5555\", \"Павел Морозов\", new DateTime(2026, 6, 30), 3000, \"8(999)555-55-55\");\n",
    "CreditCard corporateCard = new CorporateCreditCard(\"3333-4444-5555-6666\", \"Иван Петров\", new DateTime(2027, 1, 10), 10000, \"ГазпромНефть\");\n",
    "\n",
    "// GoldCreditCard\n",
    "Console.WriteLine(goldCard.GetInfo());\n",
    "Console.WriteLine(goldCard.Pay(300));\n",
    "Console.WriteLine(goldCard.CheckBalance());\n",
    "\n",
    "Console.WriteLine();\n",
    "\n",
    "// PremiumCreditCard\n",
    "Console.WriteLine(premiumCard.GetInfo());\n",
    "Console.WriteLine(premiumCard.Pay(200));\n",
    "Console.WriteLine(premiumCard.CheckBalance());\n",
    "\n",
    "Console.WriteLine();\n",
    "\n",
    "// CorporateCreditCard        \n",
    "Console.WriteLine(corporateCard.GetInfo());\n",
    "Console.WriteLine(corporateCard.Pay(1500));\n",
    "Console.WriteLine(corporateCard.CheckBalance());\n"
   ]
  }
 ],
 "metadata": {
  "kernelspec": {
   "display_name": ".NET (C#)",
   "language": "C#",
   "name": ".net-csharp"
  },
  "polyglot_notebook": {
   "kernelInfo": {
    "defaultKernelName": "csharp",
    "items": [
     {
      "aliases": [],
      "languageName": "csharp",
      "name": "csharp"
     }
    ]
   }
  }
 },
 "nbformat": 4,
 "nbformat_minor": 2
}
